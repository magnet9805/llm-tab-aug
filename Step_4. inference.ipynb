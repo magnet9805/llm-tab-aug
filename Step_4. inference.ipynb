{
 "cells": [
  {
   "cell_type": "code",
   "execution_count": 1,
   "metadata": {},
   "outputs": [],
   "source": [
    "from numba import cuda\n",
    "reset_d = cuda.get_current_device()\n",
    "reset_d.reset()"
   ]
  },
  {
   "cell_type": "code",
   "execution_count": null,
   "metadata": {},
   "outputs": [],
   "source": [
    "import os\n",
    "class myconfig():\n",
    "    data_path = r\"/home/work/lib_data/KISTI/summary_data_ctgr.pkl\"\n",
    "    access_token = os.getenv('HUGGINGFACE_TOKEN')\n",
    "    model = \"KIML/llama3_8B_hjy_v2\"\n",
    "    cache_dir = r\"/home/work/lib_data/Llama3\"\n",
    "mcfg = myconfig()"
   ]
  },
  {
   "cell_type": "code",
   "execution_count": 3,
   "metadata": {},
   "outputs": [],
   "source": [
    "import pandas as pd\n",
    "summary_data = pd.read_pickle(mcfg.data_path)\n",
    "title = list(summary_data[\"title\"])\n",
    "summary = list(summary_data[\"summary\"])"
   ]
  },
  {
   "cell_type": "code",
   "execution_count": 4,
   "metadata": {},
   "outputs": [
    {
     "data": {
      "text/plain": [
       "True"
      ]
     },
     "execution_count": 4,
     "metadata": {},
     "output_type": "execute_result"
    }
   ],
   "source": [
    "import torch\n",
    "torch.cuda.empty_cache()\n",
    "torch.cuda.is_available()"
   ]
  },
  {
   "cell_type": "code",
   "execution_count": 5,
   "metadata": {},
   "outputs": [
    {
     "name": "stderr",
     "output_type": "stream",
     "text": [
      "/home/work/.local/lib/python3.10/site-packages/tqdm/auto.py:21: TqdmWarning: IProgress not found. Please update jupyter and ipywidgets. See https://ipywidgets.readthedocs.io/en/stable/user_install.html\n",
      "  from .autonotebook import tqdm as notebook_tqdm\n"
     ]
    },
    {
     "name": "stdout",
     "output_type": "stream",
     "text": [
      "The token has not been saved to the git credentials helper. Pass `add_to_git_credential=True` in this function directly or `--add-to-git-credential` if using via `huggingface-cli` if you want to set the git credential as well.\n",
      "Token is valid (permission: write).\n",
      "Your token has been saved to /home/work/.cache/huggingface/token\n",
      "Login successful\n"
     ]
    }
   ],
   "source": [
    "from huggingface_hub import login\n",
    "login(mcfg.access_token)"
   ]
  },
  {
   "cell_type": "markdown",
   "metadata": {},
   "source": [
    "# 1. 모델 불러오기"
   ]
  },
  {
   "cell_type": "code",
   "execution_count": 6,
   "metadata": {},
   "outputs": [],
   "source": [
    "device = torch.device(\"cuda\" if torch.cuda.is_available() else \"cpu\")"
   ]
  },
  {
   "cell_type": "code",
   "execution_count": 7,
   "metadata": {},
   "outputs": [
    {
     "name": "stderr",
     "output_type": "stream",
     "text": [
      "Loading checkpoint shards: 100%|██████████| 4/4 [00:19<00:00,  4.86s/it]\n"
     ]
    }
   ],
   "source": [
    "import transformers\n",
    "from transformers import AutoTokenizer, AutoModelForCausalLM\n",
    "import numpy as np\n",
    "\n",
    "tokenizer = AutoTokenizer.from_pretrained(mcfg.model, cache_dir=mcfg.cache_dir)\n",
    "model = AutoModelForCausalLM.from_pretrained(mcfg.model, cache_dir=mcfg.cache_dir)"
   ]
  },
  {
   "cell_type": "code",
   "execution_count": 8,
   "metadata": {},
   "outputs": [
    {
     "data": {
      "text/plain": [
       "LlamaForCausalLM(\n",
       "  (model): LlamaModel(\n",
       "    (embed_tokens): Embedding(128256, 4096)\n",
       "    (layers): ModuleList(\n",
       "      (0-31): 32 x LlamaDecoderLayer(\n",
       "        (self_attn): LlamaSdpaAttention(\n",
       "          (q_proj): Linear(in_features=4096, out_features=4096, bias=False)\n",
       "          (k_proj): Linear(in_features=4096, out_features=1024, bias=False)\n",
       "          (v_proj): Linear(in_features=4096, out_features=1024, bias=False)\n",
       "          (o_proj): Linear(in_features=4096, out_features=4096, bias=False)\n",
       "          (rotary_emb): LlamaRotaryEmbedding()\n",
       "        )\n",
       "        (mlp): LlamaMLP(\n",
       "          (gate_proj): Linear(in_features=4096, out_features=14336, bias=False)\n",
       "          (up_proj): Linear(in_features=4096, out_features=14336, bias=False)\n",
       "          (down_proj): Linear(in_features=14336, out_features=4096, bias=False)\n",
       "          (act_fn): SiLU()\n",
       "        )\n",
       "        (input_layernorm): LlamaRMSNorm((4096,), eps=1e-05)\n",
       "        (post_attention_layernorm): LlamaRMSNorm((4096,), eps=1e-05)\n",
       "      )\n",
       "    )\n",
       "    (norm): LlamaRMSNorm((4096,), eps=1e-05)\n",
       "    (rotary_emb): LlamaRotaryEmbedding()\n",
       "  )\n",
       "  (lm_head): Linear(in_features=4096, out_features=128256, bias=False)\n",
       ")"
      ]
     },
     "execution_count": 8,
     "metadata": {},
     "output_type": "execute_result"
    }
   ],
   "source": [
    "model.to(device)"
   ]
  },
  {
   "cell_type": "markdown",
   "metadata": {},
   "source": [
    "# 2. 프롬프트 생성"
   ]
  },
  {
   "cell_type": "code",
   "execution_count": null,
   "metadata": {},
   "outputs": [],
   "source": [
    "system_prompt = \"\"\"You are a helpful AI assistant for financial and commercial analysis.\"\"\"\n",
    "user_prompt = f\"\"\"If customer does not make late payments in October 2005, generate the values ​​of the following conditions:\n",
    "\n",
    "Amount of given credit in NT dollars: \n",
    "Gender: \n",
    "Education: \n",
    "Marital status: \n",
    "Age: \n",
    "Repayment status in June, 2005: \n",
    "Repayment status in May, 2005: \n",
    "Repayment status in April, 2005: \n",
    "Amount of bill statement in June, 2005: \n",
    "Amount of bill statement in May, 2005: \n",
    "Amount of bill statement in April, 2005: \n",
    "Amount of previous payment in June, 2005: \n",
    "Amount of previous payment in May, 2005: \n",
    "Amount of previous payment in April, 2005: \n",
    "\n",
    "Do not create repeated content or multiple conditions.\n",
    "\"\"\"\n",
    "    \n",
    "base_prompt = f\"<|begin_of_text|><|start_header_id|>system<|end_header_id|>{system_prompt}<|eot_id|><|start_header_id|>user<|end_header_id|>{user_prompt}<|eot_id|><|start_header_id|>assistant<|end_header_id|>\"\n",
    "\n",
    "input = tokenizer(base_prompt, return_tensors=\"pt\").to(device)\n",
    "\n",
    "# input = tokenizer(user_prompt, return_tensors=\"pt\").to(device)"
   ]
  },
  {
   "cell_type": "markdown",
   "metadata": {},
   "source": [
    "# 3. 추론(generation)"
   ]
  },
  {
   "cell_type": "code",
   "execution_count": 115,
   "metadata": {},
   "outputs": [],
   "source": [
    "# from transformers import pipeline\n",
    "\n",
    "# pipe = pipeline(\n",
    "#     \"text-generation\",\n",
    "#     model=model,\n",
    "#     tokenizer=tokenizer,\n",
    "#     torch_dtype=torch.float16,\n",
    "#     device=device,\n",
    "#     )"
   ]
  },
  {
   "cell_type": "code",
   "execution_count": 12,
   "metadata": {},
   "outputs": [],
   "source": [
    "import gc\n",
    "gc.collect()\n",
    "torch.cuda.empty_cache()"
   ]
  },
  {
   "cell_type": "code",
   "execution_count": 154,
   "metadata": {},
   "outputs": [],
   "source": [
    "results = []"
   ]
  },
  {
   "cell_type": "code",
   "execution_count": null,
   "metadata": {},
   "outputs": [],
   "source": [
    "for i in range(2000):\n",
    "    generated_outputs = model.generate(**input,\n",
    "                                    max_new_tokens = 200,\n",
    "                                # return_dict_in_generate=True\n",
    "    )\n",
    "\n",
    "    # generated_outputs.sequences = input+output\n",
    "    input_length = 1 if model.config.is_encoder_decoder else input.input_ids.shape[1]\n",
    "\n",
    "    generated_tokens = generated_outputs[:,input_length:]\n",
    "\n",
    "    sentence = tokenizer.decode(generated_tokens[0], skip_special_tokens=True)\n",
    "    \n",
    "    results.append(sentence)\n",
    "\n",
    "    gc.collect()\n",
    "    torch.cuda.empty_cache()"
   ]
  },
  {
   "cell_type": "code",
   "execution_count": 156,
   "metadata": {},
   "outputs": [
    {
     "data": {
      "text/plain": [
       "2000"
      ]
     },
     "execution_count": 156,
     "metadata": {},
     "output_type": "execute_result"
    }
   ],
   "source": [
    "len(results)"
   ]
  },
  {
   "cell_type": "code",
   "execution_count": 157,
   "metadata": {},
   "outputs": [],
   "source": [
    "result_no_late = pd.DataFrame(results)"
   ]
  },
  {
   "cell_type": "code",
   "execution_count": 158,
   "metadata": {},
   "outputs": [],
   "source": [
    "result_no_late.to_csv(\"./result_no_late.csv\")"
   ]
  },
  {
   "cell_type": "code",
   "execution_count": 9,
   "metadata": {},
   "outputs": [],
   "source": [
    "results_2 = []"
   ]
  },
  {
   "cell_type": "code",
   "execution_count": 29,
   "metadata": {},
   "outputs": [],
   "source": [
    "system_prompt = \"\"\"You are a helpful AI assistant for financial and commercial analysis.\"\"\"\n",
    "user_prompt = f\"\"\"If customer will default on his/her credit card payment in October 2005, fill the [] with values ​​of the following conditions:\n",
    "\n",
    "Amount of given credit in NT dollars: []\n",
    "Gender: []\n",
    "Education: [] \n",
    "Marital status: []\n",
    "Age: []\n",
    "Repayment status in June, 2005: []\n",
    "Repayment status in May, 2005: []\n",
    "Repayment status in April, 2005: []\n",
    "Amount of bill statement in June, 2005: []\n",
    "Amount of bill statement in May, 2005: []\n",
    "Amount of bill statement in April, 2005: []\n",
    "Amount of previous payment in June, 2005: []\n",
    "Amount of previous payment in May, 2005: []\n",
    "Amount of previous payment in April, 2005: []\n",
    "\n",
    "Do not generate repeated content or multiple conditions.\n",
    "\"\"\"\n",
    "    \n",
    "base_prompt = f\"<|begin_of_text|><|start_header_id|>system<|end_header_id|>{system_prompt}<|eot_id|><|start_header_id|>user<|end_header_id|>{user_prompt}<|eot_id|><|start_header_id|>assistant<|end_header_id|>\"\n",
    "\n",
    "input = tokenizer(base_prompt, return_tensors=\"pt\").to(device)\n",
    "\n",
    "# input = tokenizer(user_prompt, return_tensors=\"pt\").to(device)"
   ]
  },
  {
   "cell_type": "code",
   "execution_count": null,
   "metadata": {},
   "outputs": [],
   "source": [
    "for i in range(2000):\n",
    "    generated_outputs = model.generate(**input,\n",
    "                                    max_new_tokens = 250,\n",
    "                                # return_dict_in_generate=True\n",
    "    )\n",
    "\n",
    "    # generated_outputs.sequences = input+output\n",
    "    input_length = 1 if model.config.is_encoder_decoder else input.input_ids.shape[1]\n",
    "\n",
    "    generated_tokens = generated_outputs[:,input_length:]\n",
    "\n",
    "    sentence = tokenizer.decode(generated_tokens[0], skip_special_tokens=True)\n",
    "    \n",
    "    print(sentence)\n",
    "    \n",
    "    results_2.append(sentence)\n",
    "\n",
    "    gc.collect()\n",
    "    torch.cuda.empty_cache()"
   ]
  },
  {
   "cell_type": "code",
   "execution_count": 32,
   "metadata": {},
   "outputs": [
    {
     "data": {
      "text/plain": [
       "2042"
      ]
     },
     "execution_count": 32,
     "metadata": {},
     "output_type": "execute_result"
    }
   ],
   "source": [
    "len(results_2)"
   ]
  },
  {
   "cell_type": "code",
   "execution_count": 33,
   "metadata": {},
   "outputs": [],
   "source": [
    "result_late = pd.DataFrame(results_2)\n",
    "result_late.to_csv(\"./result_late.csv\")"
   ]
  },
  {
   "cell_type": "code",
   "execution_count": null,
   "metadata": {},
   "outputs": [],
   "source": []
  }
 ],
 "metadata": {
  "kernelspec": {
   "display_name": "Python 3",
   "language": "python",
   "name": "python3"
  },
  "language_info": {
   "codemirror_mode": {
    "name": "ipython",
    "version": 3
   },
   "file_extension": ".py",
   "mimetype": "text/x-python",
   "name": "python",
   "nbconvert_exporter": "python",
   "pygments_lexer": "ipython3",
   "version": "3.10.14"
  }
 },
 "nbformat": 4,
 "nbformat_minor": 2
}
